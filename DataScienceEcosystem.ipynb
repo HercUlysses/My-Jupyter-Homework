{
 "cells": [
  {
   "cell_type": "markdown",
   "id": "d44ef2f0",
   "metadata": {},
   "source": [
    "# Data Science Tools and Ecosystem"
   ]
  },
  {
   "cell_type": "markdown",
   "id": "ecf8c393",
   "metadata": {},
   "source": [
    "In this notebook, Data Science Tools and Ecosystem are summarized."
   ]
  },
  {
   "cell_type": "markdown",
   "id": "c7a43593",
   "metadata": {},
   "source": [
    "## Author\n",
    "Ulysses Aaron D. Page"
   ]
  },
  {
   "cell_type": "markdown",
   "id": "245b706c",
   "metadata": {},
   "source": [
    "**Objectives:**\n",
    "- Python\n",
    "- Java\n",
    "- Julia"
   ]
  },
  {
   "cell_type": "markdown",
   "id": "57d31cda",
   "metadata": {},
   "source": [
    "Some of the popular languages that Data Scientists use are:"
   ]
  },
  {
   "cell_type": "markdown",
   "id": "05d50a2d",
   "metadata": {},
   "source": [
    "1. Python\n",
    "2. R\n",
    "3. C++"
   ]
  },
  {
   "cell_type": "markdown",
   "id": "61f7be5a",
   "metadata": {},
   "source": [
    "Some of the commonly used libraries used by Data Scientists include"
   ]
  },
  {
   "cell_type": "markdown",
   "id": "d8d4163d",
   "metadata": {},
   "source": [
    "1. MathPlotLib\n",
    "2. SciPy\n",
    "3. Tensor Flow"
   ]
  },
  {
   "cell_type": "markdown",
   "id": "fab35727",
   "metadata": {},
   "source": [
    "| Data Science Tools |\n",
    "| --- |\n",
    "| R Studio |\n",
    "| Apache Spark |\n",
    "| Tensor Flow |\n",
    "\n"
   ]
  },
  {
   "cell_type": "markdown",
   "id": "64027e26",
   "metadata": {},
   "source": [
    "### Below are a few examples of evaluating arithmetic expressions in Python"
   ]
  },
  {
   "cell_type": "code",
   "execution_count": 6,
   "id": "89c60753",
   "metadata": {},
   "outputs": [
    {
     "data": {
      "text/plain": [
       "17"
      ]
     },
     "execution_count": 6,
     "metadata": {},
     "output_type": "execute_result"
    }
   ],
   "source": [
    "#This a simple arithmetic expression to mutiply then add integers\n",
    "(3*4)+5"
   ]
  },
  {
   "cell_type": "code",
   "execution_count": 33,
   "id": "0249113d",
   "metadata": {},
   "outputs": [
    {
     "name": "stdout",
     "output_type": "stream",
     "text": [
      "3.3333333333333335 hours\n"
     ]
    }
   ],
   "source": [
    "#This will convert 200 minutes to hours by diving by 60\n",
    "x=(200/60)\n",
    "print(x, end=\"\")\n",
    "print(\" hours\")\n"
   ]
  },
  {
   "cell_type": "code",
   "execution_count": null,
   "id": "5d8d64e2",
   "metadata": {},
   "outputs": [],
   "source": []
  },
  {
   "cell_type": "code",
   "execution_count": null,
   "id": "33ac497d",
   "metadata": {},
   "outputs": [],
   "source": []
  }
 ],
 "metadata": {
  "kernelspec": {
   "display_name": "Python",
   "language": "python",
   "name": "conda-env-python-py"
  },
  "language_info": {
   "codemirror_mode": {
    "name": "ipython",
    "version": 3
   },
   "file_extension": ".py",
   "mimetype": "text/x-python",
   "name": "python",
   "nbconvert_exporter": "python",
   "pygments_lexer": "ipython3",
   "version": "3.7.12"
  }
 },
 "nbformat": 4,
 "nbformat_minor": 5
}
